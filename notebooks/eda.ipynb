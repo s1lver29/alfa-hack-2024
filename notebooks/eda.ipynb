{
 "cells": [
  {
   "cell_type": "code",
   "execution_count": 1,
   "metadata": {},
   "outputs": [],
   "source": [
    "import polars as pl"
   ]
  },
  {
   "cell_type": "code",
   "execution_count": 2,
   "metadata": {},
   "outputs": [
    {
     "data": {
      "text/html": [
       "<div><style>\n",
       ".dataframe > thead > tr,\n",
       ".dataframe > tbody > tr {\n",
       "  text-align: right;\n",
       "  white-space: pre-wrap;\n",
       "}\n",
       "</style>\n",
       "<small>shape: (5, 503)</small><table border=\"1\" class=\"dataframe\"><thead><tr><th>target</th><th>smpl</th><th>id</th><th>feature_1</th><th>feature_2</th><th>feature_3</th><th>feature_4</th><th>feature_5</th><th>feature_6</th><th>feature_7</th><th>feature_8</th><th>feature_9</th><th>feature_10</th><th>feature_11</th><th>feature_12</th><th>feature_13</th><th>feature_14</th><th>feature_15</th><th>feature_16</th><th>feature_17</th><th>feature_18</th><th>feature_19</th><th>feature_20</th><th>feature_21</th><th>feature_22</th><th>feature_23</th><th>feature_24</th><th>feature_25</th><th>feature_26</th><th>feature_27</th><th>feature_28</th><th>feature_29</th><th>feature_30</th><th>feature_31</th><th>feature_32</th><th>feature_33</th><th>feature_34</th><th>&hellip;</th><th>feature_464</th><th>feature_465</th><th>feature_466</th><th>feature_467</th><th>feature_468</th><th>feature_469</th><th>feature_470</th><th>feature_471</th><th>feature_472</th><th>feature_473</th><th>feature_474</th><th>feature_475</th><th>feature_476</th><th>feature_477</th><th>feature_478</th><th>feature_479</th><th>feature_480</th><th>feature_481</th><th>feature_482</th><th>feature_483</th><th>feature_484</th><th>feature_485</th><th>feature_486</th><th>feature_487</th><th>feature_488</th><th>feature_489</th><th>feature_490</th><th>feature_491</th><th>feature_492</th><th>feature_493</th><th>feature_494</th><th>feature_495</th><th>feature_496</th><th>feature_497</th><th>feature_498</th><th>feature_499</th><th>feature_500</th></tr><tr><td>i64</td><td>str</td><td>i64</td><td>f32</td><td>f32</td><td>f32</td><td>f32</td><td>f32</td><td>f32</td><td>f32</td><td>f32</td><td>f32</td><td>f32</td><td>f32</td><td>f32</td><td>f32</td><td>f32</td><td>f32</td><td>f32</td><td>f32</td><td>f32</td><td>f32</td><td>f32</td><td>f32</td><td>f32</td><td>f32</td><td>f32</td><td>f32</td><td>f32</td><td>f32</td><td>f32</td><td>f32</td><td>f32</td><td>f32</td><td>f32</td><td>f32</td><td>f32</td><td>&hellip;</td><td>f32</td><td>f32</td><td>f32</td><td>f32</td><td>f32</td><td>f32</td><td>f32</td><td>f32</td><td>f32</td><td>f32</td><td>f32</td><td>f32</td><td>f32</td><td>f32</td><td>f32</td><td>f32</td><td>f32</td><td>f32</td><td>f32</td><td>f32</td><td>f32</td><td>f32</td><td>f32</td><td>f32</td><td>f32</td><td>f32</td><td>f32</td><td>f32</td><td>f32</td><td>f32</td><td>f32</td><td>f32</td><td>f32</td><td>f32</td><td>f32</td><td>f32</td><td>f32</td></tr></thead><tbody><tr><td>0</td><td>&quot;train&quot;</td><td>0</td><td>0.372342</td><td>1.500852</td><td>2.133451</td><td>-0.957384</td><td>-0.119022</td><td>0.12292</td><td>0.150993</td><td>0.506717</td><td>-0.839165</td><td>-0.199743</td><td>0.216119</td><td>1.348401</td><td>1.065637</td><td>-0.946945</td><td>0.499681</td><td>-0.264383</td><td>0.0</td><td>-1.33332</td><td>0.443795</td><td>0.098801</td><td>0.0</td><td>0.0</td><td>0.015876</td><td>-0.021957</td><td>0.792371</td><td>0.013245</td><td>0.0</td><td>1.017209</td><td>-0.448728</td><td>0.492206</td><td>0.0</td><td>-0.851639</td><td>0.936328</td><td>0.264994</td><td>&hellip;</td><td>-0.645828</td><td>0.434229</td><td>1.816138</td><td>-1.108658</td><td>0.826718</td><td>-1.196374</td><td>0.24742</td><td>0.160462</td><td>-0.039017</td><td>0.499748</td><td>0.159741</td><td>0.425718</td><td>1.162702</td><td>-0.632753</td><td>-0.517942</td><td>0.449427</td><td>0.077546</td><td>-1.703537</td><td>0.005984</td><td>-0.873771</td><td>-0.246468</td><td>1.4243</td><td>0.340689</td><td>-0.663166</td><td>0.517225</td><td>-0.286324</td><td>57.0</td><td>-1.254497</td><td>0.0</td><td>0.803635</td><td>-1.017931</td><td>-0.52113</td><td>0.647187</td><td>1.45386</td><td>-0.83348</td><td>0.184028</td><td>-0.438225</td></tr><tr><td>0</td><td>&quot;train&quot;</td><td>1</td><td>0.382215</td><td>0.962629</td><td>-0.192558</td><td>-1.019986</td><td>-1.330412</td><td>-0.100149</td><td>-1.131326</td><td>-1.173272</td><td>-1.790011</td><td>0.116708</td><td>0.788913</td><td>0.720656</td><td>-0.914471</td><td>-0.766861</td><td>1.551133</td><td>-0.198539</td><td>0.0</td><td>-0.71487</td><td>-0.869011</td><td>-0.743693</td><td>0.0</td><td>0.0</td><td>-0.767664</td><td>1.141277</td><td>-1.286912</td><td>-0.572806</td><td>0.0</td><td>-1.158312</td><td>-2.049119</td><td>-0.193137</td><td>0.0</td><td>-0.554452</td><td>0.632568</td><td>-1.332586</td><td>&hellip;</td><td>-0.126592</td><td>-0.614043</td><td>0.021234</td><td>-0.334816</td><td>-0.055649</td><td>1.201724</td><td>-0.281092</td><td>-1.279436</td><td>0.674947</td><td>-0.198981</td><td>-0.614454</td><td>-1.006725</td><td>-0.103481</td><td>0.778153</td><td>-1.090015</td><td>0.810727</td><td>1.101775</td><td>-0.761821</td><td>-0.112268</td><td>-0.491775</td><td>1.130508</td><td>-0.989669</td><td>1.19114</td><td>-0.803186</td><td>0.566153</td><td>1.284961</td><td>1.0</td><td>-0.884458</td><td>0.0</td><td>-1.643735</td><td>-1.264842</td><td>-1.523788</td><td>0.604948</td><td>0.491954</td><td>-0.003686</td><td>0.46972</td><td>-1.094604</td></tr><tr><td>0</td><td>&quot;train&quot;</td><td>2</td><td>0.472528</td><td>-0.695334</td><td>0.537968</td><td>-0.033</td><td>-0.36485</td><td>-0.441849</td><td>-0.035953</td><td>-0.921158</td><td>0.746746</td><td>0.477138</td><td>1.061066</td><td>2.348964</td><td>-0.740345</td><td>1.007488</td><td>0.990622</td><td>-1.122783</td><td>0.0</td><td>0.632436</td><td>-0.006833</td><td>-0.411626</td><td>0.0</td><td>0.0</td><td>-1.270903</td><td>-1.879841</td><td>0.62167</td><td>-0.688338</td><td>0.0</td><td>2.160033</td><td>-1.6759</td><td>-0.082673</td><td>0.0</td><td>-0.148567</td><td>-0.46428</td><td>-0.178598</td><td>&hellip;</td><td>0.869195</td><td>1.376578</td><td>0.750041</td><td>1.620765</td><td>-0.959123</td><td>-0.757372</td><td>-1.331277</td><td>-0.710401</td><td>-1.513987</td><td>0.720477</td><td>-1.287441</td><td>0.10716</td><td>1.086501</td><td>-0.458318</td><td>-0.072571</td><td>0.470386</td><td>1.170615</td><td>0.213452</td><td>1.806888</td><td>-2.085279</td><td>-1.035103</td><td>-0.173536</td><td>-0.470982</td><td>-0.134215</td><td>0.129898</td><td>-0.146585</td><td>2.0</td><td>-0.322682</td><td>0.0</td><td>-0.496765</td><td>-0.051931</td><td>0.743209</td><td>-1.395109</td><td>0.147941</td><td>-0.007553</td><td>-0.981296</td><td>0.27093</td></tr><tr><td>0</td><td>&quot;train&quot;</td><td>3</td><td>0.51226</td><td>-1.23196</td><td>0.555326</td><td>1.456647</td><td>1.435357</td><td>0.168613</td><td>-0.628737</td><td>0.249797</td><td>1.475977</td><td>-0.169269</td><td>0.51034</td><td>0.911377</td><td>-0.23678</td><td>-0.625305</td><td>2.107196</td><td>1.295551</td><td>0.0</td><td>0.649062</td><td>-0.117766</td><td>-1.508139</td><td>0.0</td><td>0.0</td><td>-0.387628</td><td>0.545191</td><td>0.14498</td><td>1.372529</td><td>0.0</td><td>0.05125</td><td>1.53818</td><td>0.840503</td><td>0.0</td><td>-0.385656</td><td>0.915411</td><td>-1.591858</td><td>&hellip;</td><td>1.28186</td><td>0.303849</td><td>0.803946</td><td>1.482661</td><td>-0.109579</td><td>1.002381</td><td>-0.432043</td><td>-0.381731</td><td>0.017506</td><td>-0.059549</td><td>-1.383963</td><td>0.008786</td><td>-1.59286</td><td>3.101853</td><td>0.318749</td><td>0.923378</td><td>-0.717617</td><td>0.383301</td><td>-1.171417</td><td>0.411504</td><td>1.426704</td><td>-0.174565</td><td>1.742944</td><td>0.697967</td><td>0.590742</td><td>-0.22384</td><td>3.0</td><td>0.976566</td><td>0.0</td><td>1.183049</td><td>-0.178662</td><td>1.468147</td><td>-0.791254</td><td>0.000645</td><td>0.674715</td><td>0.803094</td><td>1.037068</td></tr><tr><td>0</td><td>&quot;train&quot;</td><td>4</td><td>1.487986</td><td>-0.164392</td><td>-1.197163</td><td>1.549057</td><td>0.952673</td><td>1.144201</td><td>-0.964</td><td>0.0319</td><td>1.262253</td><td>-0.456219</td><td>-0.55885</td><td>0.035832</td><td>-1.898993</td><td>0.24009</td><td>0.788041</td><td>0.478828</td><td>1.0</td><td>0.30892</td><td>-0.966941</td><td>-0.525692</td><td>0.0</td><td>1.0</td><td>0.065214</td><td>-0.504748</td><td>0.022186</td><td>0.760587</td><td>0.0</td><td>2.040007</td><td>0.220125</td><td>1.336657</td><td>0.0</td><td>0.360773</td><td>0.636532</td><td>0.425884</td><td>&hellip;</td><td>-1.107146</td><td>-0.20163</td><td>-0.084249</td><td>0.321524</td><td>0.170648</td><td>-1.102571</td><td>-1.281386</td><td>0.066872</td><td>0.297046</td><td>-1.016946</td><td>0.109061</td><td>-0.03387</td><td>-0.053841</td><td>1.302263</td><td>-0.773607</td><td>-0.266053</td><td>0.577491</td><td>0.229705</td><td>0.77006</td><td>-0.297142</td><td>0.205571</td><td>-1.949414</td><td>-0.018187</td><td>-0.667887</td><td>-1.840382</td><td>-0.582842</td><td>4.0</td><td>-1.655236</td><td>0.0</td><td>1.076122</td><td>-0.555735</td><td>1.248728</td><td>-0.485943</td><td>0.458768</td><td>-0.444558</td><td>-0.33371</td><td>0.380206</td></tr></tbody></table></div>"
      ],
      "text/plain": [
       "shape: (5, 503)\n",
       "┌────────┬───────┬─────┬───────────┬───┬─────────────┬─────────────┬─────────────┬─────────────┐\n",
       "│ target ┆ smpl  ┆ id  ┆ feature_1 ┆ … ┆ feature_497 ┆ feature_498 ┆ feature_499 ┆ feature_500 │\n",
       "│ ---    ┆ ---   ┆ --- ┆ ---       ┆   ┆ ---         ┆ ---         ┆ ---         ┆ ---         │\n",
       "│ i64    ┆ str   ┆ i64 ┆ f32       ┆   ┆ f32         ┆ f32         ┆ f32         ┆ f32         │\n",
       "╞════════╪═══════╪═════╪═══════════╪═══╪═════════════╪═════════════╪═════════════╪═════════════╡\n",
       "│ 0      ┆ train ┆ 0   ┆ 0.372342  ┆ … ┆ 1.45386     ┆ -0.83348    ┆ 0.184028    ┆ -0.438225   │\n",
       "│ 0      ┆ train ┆ 1   ┆ 0.382215  ┆ … ┆ 0.491954    ┆ -0.003686   ┆ 0.46972     ┆ -1.094604   │\n",
       "│ 0      ┆ train ┆ 2   ┆ 0.472528  ┆ … ┆ 0.147941    ┆ -0.007553   ┆ -0.981296   ┆ 0.27093     │\n",
       "│ 0      ┆ train ┆ 3   ┆ 0.51226   ┆ … ┆ 0.000645    ┆ 0.674715    ┆ 0.803094    ┆ 1.037068    │\n",
       "│ 0      ┆ train ┆ 4   ┆ 1.487986  ┆ … ┆ 0.458768    ┆ -0.444558   ┆ -0.33371    ┆ 0.380206    │\n",
       "└────────┴───────┴─────┴───────────┴───┴─────────────┴─────────────┴─────────────┴─────────────┘"
      ]
     },
     "execution_count": 2,
     "metadata": {},
     "output_type": "execute_result"
    }
   ],
   "source": [
    "data = pl.read_parquet(\"../data/train_dataset.parquet\")\n",
    "data.head()"
   ]
  },
  {
   "cell_type": "code",
   "execution_count": 3,
   "metadata": {},
   "outputs": [
    {
     "data": {
      "text/html": [
       "<div><style>\n",
       ".dataframe > thead > tr,\n",
       ".dataframe > tbody > tr {\n",
       "  text-align: right;\n",
       "  white-space: pre-wrap;\n",
       "}\n",
       "</style>\n",
       "<small>shape: (2, 2)</small><table border=\"1\" class=\"dataframe\"><thead><tr><th>target</th><th>count</th></tr><tr><td>i64</td><td>u32</td></tr></thead><tbody><tr><td>1</td><td>154829</td></tr><tr><td>0</td><td>4335639</td></tr></tbody></table></div>"
      ],
      "text/plain": [
       "shape: (2, 2)\n",
       "┌────────┬─────────┐\n",
       "│ target ┆ count   │\n",
       "│ ---    ┆ ---     │\n",
       "│ i64    ┆ u32     │\n",
       "╞════════╪═════════╡\n",
       "│ 1      ┆ 154829  │\n",
       "│ 0      ┆ 4335639 │\n",
       "└────────┴─────────┘"
      ]
     },
     "execution_count": 3,
     "metadata": {},
     "output_type": "execute_result"
    }
   ],
   "source": [
    "data[\"target\"].value_counts()"
   ]
  },
  {
   "cell_type": "code",
   "execution_count": 4,
   "metadata": {},
   "outputs": [],
   "source": [
    "categorial_features_is = []\n",
    "for columns in data.columns:\n",
    "    if data[columns].dtype == pl.Float32 and data[columns].cast(pl.Int64, strict=False).equals(data[columns]):\n",
    "        categorial_features_is.append(columns)"
   ]
  },
  {
   "cell_type": "code",
   "execution_count": 6,
   "metadata": {},
   "outputs": [
    {
     "data": {
      "text/plain": [
       "35"
      ]
     },
     "execution_count": 6,
     "metadata": {},
     "output_type": "execute_result"
    }
   ],
   "source": [
    "len(categorial_features_is)"
   ]
  },
  {
   "cell_type": "code",
   "execution_count": 10,
   "metadata": {},
   "outputs": [
    {
     "data": {
      "text/html": [
       "<div><style>\n",
       ".dataframe > thead > tr,\n",
       ".dataframe > tbody > tr {\n",
       "  text-align: right;\n",
       "  white-space: pre-wrap;\n",
       "}\n",
       "</style>\n",
       "<small>shape: (9, 36)</small><table border=\"1\" class=\"dataframe\"><thead><tr><th>statistic</th><th>feature_17</th><th>feature_21</th><th>feature_22</th><th>feature_27</th><th>feature_31</th><th>feature_43</th><th>feature_61</th><th>feature_64</th><th>feature_80</th><th>feature_83</th><th>feature_92</th><th>feature_133</th><th>feature_143</th><th>feature_166</th><th>feature_173</th><th>feature_191</th><th>feature_201</th><th>feature_209</th><th>feature_251</th><th>feature_253</th><th>feature_299</th><th>feature_300</th><th>feature_343</th><th>feature_347</th><th>feature_382</th><th>feature_392</th><th>feature_405</th><th>feature_406</th><th>feature_423</th><th>feature_434</th><th>feature_446</th><th>feature_449</th><th>feature_459</th><th>feature_490</th><th>feature_492</th></tr><tr><td>str</td><td>f64</td><td>f64</td><td>f64</td><td>f64</td><td>f64</td><td>f64</td><td>f64</td><td>f64</td><td>f64</td><td>f64</td><td>f64</td><td>f64</td><td>f64</td><td>f64</td><td>f64</td><td>f64</td><td>f64</td><td>f64</td><td>f64</td><td>f64</td><td>f64</td><td>f64</td><td>f64</td><td>f64</td><td>f64</td><td>f64</td><td>f64</td><td>f64</td><td>f64</td><td>f64</td><td>f64</td><td>f64</td><td>f64</td><td>f64</td><td>f64</td></tr></thead><tbody><tr><td>&quot;count&quot;</td><td>4.490468e6</td><td>4.490468e6</td><td>4.490468e6</td><td>4.490468e6</td><td>4.490468e6</td><td>4.490468e6</td><td>4.490468e6</td><td>4.490468e6</td><td>4.490468e6</td><td>4.490468e6</td><td>4.490468e6</td><td>4.490468e6</td><td>4.490468e6</td><td>4.490468e6</td><td>4.490468e6</td><td>4.490468e6</td><td>4.490468e6</td><td>4.490468e6</td><td>4.490468e6</td><td>4.490468e6</td><td>4.490468e6</td><td>4.490468e6</td><td>4.490468e6</td><td>4.490468e6</td><td>4.490468e6</td><td>4.490468e6</td><td>4.490468e6</td><td>4.490468e6</td><td>4.490468e6</td><td>4.490468e6</td><td>4.490468e6</td><td>4.490468e6</td><td>4.490468e6</td><td>4.490468e6</td><td>4.490468e6</td></tr><tr><td>&quot;null_count&quot;</td><td>0.0</td><td>0.0</td><td>0.0</td><td>0.0</td><td>0.0</td><td>0.0</td><td>0.0</td><td>0.0</td><td>0.0</td><td>0.0</td><td>0.0</td><td>0.0</td><td>0.0</td><td>0.0</td><td>0.0</td><td>0.0</td><td>0.0</td><td>0.0</td><td>0.0</td><td>0.0</td><td>0.0</td><td>0.0</td><td>0.0</td><td>0.0</td><td>0.0</td><td>0.0</td><td>0.0</td><td>0.0</td><td>0.0</td><td>0.0</td><td>0.0</td><td>0.0</td><td>0.0</td><td>0.0</td><td>0.0</td></tr><tr><td>&quot;mean&quot;</td><td>0.25115</td><td>0.194594</td><td>0.25115</td><td>0.050898</td><td>0.145676</td><td>0.071994</td><td>0.071032</td><td>0.626601</td><td>0.513416</td><td>12.909472</td><td>1.909763</td><td>7.938844</td><td>0.191809</td><td>0.145199</td><td>0.350994</td><td>7.536794</td><td>17.41345</td><td>0.138185</td><td>9.853688</td><td>3.097243</td><td>0.734761</td><td>0.125115</td><td>7.49397</td><td>0.350994</td><td>1.929895</td><td>7.637414</td><td>0.050898</td><td>11.770773</td><td>2.848001</td><td>0.145199</td><td>7.537739</td><td>7.432877</td><td>0.734681</td><td>14.256782</td><td>0.194594</td></tr><tr><td>&quot;std&quot;</td><td>0.433674</td><td>0.395888</td><td>0.433674</td><td>0.21979</td><td>0.35413</td><td>0.299568</td><td>0.292735</td><td>0.620824</td><td>0.507266</td><td>7.242314</td><td>1.766341</td><td>6.176165</td><td>0.751515</td><td>0.352301</td><td>0.477281</td><td>1.594482</td><td>7.052265</td><td>0.350848</td><td>8.121666</td><td>5.140935</td><td>0.443356</td><td>0.568011</td><td>5.646821</td><td>0.477281</td><td>1.785549</td><td>6.555916</td><td>0.21979</td><td>3.582957</td><td>0.785413</td><td>0.352301</td><td>1.592332</td><td>6.592204</td><td>0.443308</td><td>16.10158</td><td>0.395888</td></tr><tr><td>&quot;min&quot;</td><td>0.0</td><td>0.0</td><td>0.0</td><td>0.0</td><td>0.0</td><td>0.0</td><td>0.0</td><td>0.0</td><td>0.0</td><td>1.0</td><td>0.0</td><td>1.0</td><td>0.0</td><td>0.0</td><td>0.0</td><td>1.0</td><td>1.0</td><td>0.0</td><td>1.0</td><td>0.0</td><td>0.0</td><td>0.0</td><td>1.0</td><td>0.0</td><td>0.0</td><td>1.0</td><td>0.0</td><td>1.0</td><td>1.0</td><td>0.0</td><td>1.0</td><td>1.0</td><td>0.0</td><td>1.0</td><td>0.0</td></tr><tr><td>&quot;25%&quot;</td><td>0.0</td><td>0.0</td><td>0.0</td><td>0.0</td><td>0.0</td><td>0.0</td><td>0.0</td><td>0.0</td><td>0.0</td><td>5.0</td><td>0.0</td><td>2.0</td><td>0.0</td><td>0.0</td><td>0.0</td><td>8.0</td><td>20.0</td><td>0.0</td><td>2.0</td><td>0.0</td><td>0.0</td><td>0.0</td><td>5.0</td><td>0.0</td><td>0.0</td><td>2.0</td><td>0.0</td><td>13.0</td><td>3.0</td><td>0.0</td><td>8.0</td><td>2.0</td><td>0.0</td><td>2.0</td><td>0.0</td></tr><tr><td>&quot;50%&quot;</td><td>0.0</td><td>0.0</td><td>0.0</td><td>0.0</td><td>0.0</td><td>0.0</td><td>0.0</td><td>1.0</td><td>1.0</td><td>16.0</td><td>2.0</td><td>14.0</td><td>0.0</td><td>0.0</td><td>0.0</td><td>8.0</td><td>21.0</td><td>0.0</td><td>8.0</td><td>2.0</td><td>1.0</td><td>0.0</td><td>7.0</td><td>0.0</td><td>2.0</td><td>5.0</td><td>0.0</td><td>13.0</td><td>3.0</td><td>0.0</td><td>8.0</td><td>5.0</td><td>1.0</td><td>6.0</td><td>0.0</td></tr><tr><td>&quot;75%&quot;</td><td>1.0</td><td>0.0</td><td>1.0</td><td>0.0</td><td>0.0</td><td>0.0</td><td>0.0</td><td>1.0</td><td>1.0</td><td>16.0</td><td>3.0</td><td>14.0</td><td>0.0</td><td>0.0</td><td>1.0</td><td>8.0</td><td>21.0</td><td>0.0</td><td>18.0</td><td>4.0</td><td>1.0</td><td>0.0</td><td>7.0</td><td>1.0</td><td>3.0</td><td>17.0</td><td>0.0</td><td>13.0</td><td>3.0</td><td>0.0</td><td>8.0</td><td>17.0</td><td>1.0</td><td>24.0</td><td>0.0</td></tr><tr><td>&quot;max&quot;</td><td>1.0</td><td>1.0</td><td>1.0</td><td>1.0</td><td>2.0</td><td>4.0</td><td>4.0</td><td>4.0</td><td>2.0</td><td>36.0</td><td>13.0</td><td>21.0</td><td>7.0</td><td>1.0</td><td>1.0</td><td>8.0</td><td>22.0</td><td>2.0</td><td>24.0</td><td>35.0</td><td>2.0</td><td>5.0</td><td>35.0</td><td>1.0</td><td>13.0</td><td>17.0</td><td>1.0</td><td>17.0</td><td>18.0</td><td>1.0</td><td>8.0</td><td>17.0</td><td>2.0</td><td>58.0</td><td>1.0</td></tr></tbody></table></div>"
      ],
      "text/plain": [
       "shape: (9, 36)\n",
       "┌───────────┬───────────┬───────────┬───────────┬───┬───────────┬───────────┬───────────┬──────────┐\n",
       "│ statistic ┆ feature_1 ┆ feature_2 ┆ feature_2 ┆ … ┆ feature_4 ┆ feature_4 ┆ feature_4 ┆ feature_ │\n",
       "│ ---       ┆ 7         ┆ 1         ┆ 2         ┆   ┆ 49        ┆ 59        ┆ 90        ┆ 492      │\n",
       "│ str       ┆ ---       ┆ ---       ┆ ---       ┆   ┆ ---       ┆ ---       ┆ ---       ┆ ---      │\n",
       "│           ┆ f64       ┆ f64       ┆ f64       ┆   ┆ f64       ┆ f64       ┆ f64       ┆ f64      │\n",
       "╞═══════════╪═══════════╪═══════════╪═══════════╪═══╪═══════════╪═══════════╪═══════════╪══════════╡\n",
       "│ count     ┆ 4.490468e ┆ 4.490468e ┆ 4.490468e ┆ … ┆ 4.490468e ┆ 4.490468e ┆ 4.490468e ┆ 4.490468 │\n",
       "│           ┆ 6         ┆ 6         ┆ 6         ┆   ┆ 6         ┆ 6         ┆ 6         ┆ e6       │\n",
       "│ null_coun ┆ 0.0       ┆ 0.0       ┆ 0.0       ┆ … ┆ 0.0       ┆ 0.0       ┆ 0.0       ┆ 0.0      │\n",
       "│ t         ┆           ┆           ┆           ┆   ┆           ┆           ┆           ┆          │\n",
       "│ mean      ┆ 0.25115   ┆ 0.194594  ┆ 0.25115   ┆ … ┆ 7.432877  ┆ 0.734681  ┆ 14.256782 ┆ 0.194594 │\n",
       "│ std       ┆ 0.433674  ┆ 0.395888  ┆ 0.433674  ┆ … ┆ 6.592204  ┆ 0.443308  ┆ 16.10158  ┆ 0.395888 │\n",
       "│ min       ┆ 0.0       ┆ 0.0       ┆ 0.0       ┆ … ┆ 1.0       ┆ 0.0       ┆ 1.0       ┆ 0.0      │\n",
       "│ 25%       ┆ 0.0       ┆ 0.0       ┆ 0.0       ┆ … ┆ 2.0       ┆ 0.0       ┆ 2.0       ┆ 0.0      │\n",
       "│ 50%       ┆ 0.0       ┆ 0.0       ┆ 0.0       ┆ … ┆ 5.0       ┆ 1.0       ┆ 6.0       ┆ 0.0      │\n",
       "│ 75%       ┆ 1.0       ┆ 0.0       ┆ 1.0       ┆ … ┆ 17.0      ┆ 1.0       ┆ 24.0      ┆ 0.0      │\n",
       "│ max       ┆ 1.0       ┆ 1.0       ┆ 1.0       ┆ … ┆ 17.0      ┆ 2.0       ┆ 58.0      ┆ 1.0      │\n",
       "└───────────┴───────────┴───────────┴───────────┴───┴───────────┴───────────┴───────────┴──────────┘"
      ]
     },
     "execution_count": 10,
     "metadata": {},
     "output_type": "execute_result"
    }
   ],
   "source": [
    "data.select(categorial_features_is).describe()"
   ]
  },
  {
   "cell_type": "code",
   "execution_count": 11,
   "metadata": {},
   "outputs": [
    {
     "name": "stdout",
     "output_type": "stream",
     "text": [
      "feature_17: 2\n",
      "feature_21: 2\n",
      "feature_22: 2\n",
      "feature_27: 2\n",
      "feature_31: 3\n",
      "feature_43: 5\n",
      "feature_61: 5\n",
      "feature_64: 5\n",
      "feature_80: 3\n",
      "feature_83: 36\n",
      "feature_92: 14\n",
      "feature_133: 21\n",
      "feature_143: 8\n",
      "feature_166: 2\n",
      "feature_173: 2\n",
      "feature_191: 8\n",
      "feature_201: 22\n",
      "feature_209: 3\n",
      "feature_251: 24\n",
      "feature_253: 36\n",
      "feature_299: 3\n",
      "feature_300: 6\n",
      "feature_343: 35\n",
      "feature_347: 2\n",
      "feature_382: 14\n",
      "feature_392: 17\n",
      "feature_405: 2\n",
      "feature_406: 17\n",
      "feature_423: 18\n",
      "feature_434: 2\n",
      "feature_446: 8\n",
      "feature_449: 17\n",
      "feature_459: 3\n",
      "feature_490: 58\n",
      "feature_492: 2\n"
     ]
    }
   ],
   "source": [
    "for cat_feat in categorial_features_is:\n",
    "    print(f\"{cat_feat}: {len(data.select(cat_feat).unique())}\")"
   ]
  },
  {
   "cell_type": "code",
   "execution_count": 21,
   "metadata": {},
   "outputs": [
    {
     "name": "stdout",
     "output_type": "stream",
     "text": [
      "Feature: feature_31\n",
      "Feature: feature_43\n",
      "Feature: feature_61\n",
      "Feature: feature_64\n",
      "Feature: feature_80\n",
      "Feature: feature_143\n",
      "Feature: feature_191\n",
      "Feature: feature_209\n",
      "Feature: feature_299\n",
      "Feature: feature_300\n",
      "Feature: feature_446\n",
      "Feature: feature_459\n"
     ]
    }
   ],
   "source": [
    "for cat_feat in categorial_features_is:\n",
    "    if 2 < len(data.select(cat_feat).unique()) <= 10:\n",
    "        print(f\"Feature: {cat_feat}\")\n",
    "        \n",
    "        # for target_value in data[\"target\"].unique():\n",
    "        #     print(f\"Target = {target_value}\")\n",
    "        #     print(data.filter(pl.col(\"target\") == target_value)[cat_feat].value_counts())"
   ]
  },
  {
   "cell_type": "code",
   "execution_count": null,
   "metadata": {},
   "outputs": [],
   "source": []
  }
 ],
 "metadata": {
  "kernelspec": {
   "display_name": "venv",
   "language": "python",
   "name": "python3"
  },
  "language_info": {
   "codemirror_mode": {
    "name": "ipython",
    "version": 3
   },
   "file_extension": ".py",
   "mimetype": "text/x-python",
   "name": "python",
   "nbconvert_exporter": "python",
   "pygments_lexer": "ipython3",
   "version": "3.12.7"
  }
 },
 "nbformat": 4,
 "nbformat_minor": 2
}
