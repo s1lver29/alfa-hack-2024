{
 "cells": [
  {
   "cell_type": "code",
   "execution_count": 1,
   "metadata": {},
   "outputs": [],
   "source": [
    "import polars as pl"
   ]
  },
  {
   "cell_type": "code",
   "execution_count": 4,
   "metadata": {},
   "outputs": [
    {
     "data": {
      "text/html": [
       "<div><style>\n",
       ".dataframe > thead > tr,\n",
       ".dataframe > tbody > tr {\n",
       "  text-align: right;\n",
       "  white-space: pre-wrap;\n",
       "}\n",
       "</style>\n",
       "<small>shape: (5, 503)</small><table border=\"1\" class=\"dataframe\"><thead><tr><th>target</th><th>smpl</th><th>id</th><th>feature_1</th><th>feature_2</th><th>feature_3</th><th>feature_4</th><th>feature_5</th><th>feature_6</th><th>feature_7</th><th>feature_8</th><th>feature_9</th><th>feature_10</th><th>feature_11</th><th>feature_12</th><th>feature_13</th><th>feature_14</th><th>feature_15</th><th>feature_16</th><th>feature_17</th><th>feature_18</th><th>feature_19</th><th>feature_20</th><th>feature_21</th><th>feature_22</th><th>feature_23</th><th>feature_24</th><th>feature_25</th><th>feature_26</th><th>feature_27</th><th>feature_28</th><th>feature_29</th><th>feature_30</th><th>feature_31</th><th>feature_32</th><th>feature_33</th><th>feature_34</th><th>&hellip;</th><th>feature_464</th><th>feature_465</th><th>feature_466</th><th>feature_467</th><th>feature_468</th><th>feature_469</th><th>feature_470</th><th>feature_471</th><th>feature_472</th><th>feature_473</th><th>feature_474</th><th>feature_475</th><th>feature_476</th><th>feature_477</th><th>feature_478</th><th>feature_479</th><th>feature_480</th><th>feature_481</th><th>feature_482</th><th>feature_483</th><th>feature_484</th><th>feature_485</th><th>feature_486</th><th>feature_487</th><th>feature_488</th><th>feature_489</th><th>feature_490</th><th>feature_491</th><th>feature_492</th><th>feature_493</th><th>feature_494</th><th>feature_495</th><th>feature_496</th><th>feature_497</th><th>feature_498</th><th>feature_499</th><th>feature_500</th></tr><tr><td>i64</td><td>str</td><td>i64</td><td>f32</td><td>f32</td><td>f32</td><td>f32</td><td>f32</td><td>f32</td><td>f32</td><td>f32</td><td>f32</td><td>f32</td><td>f32</td><td>f32</td><td>f32</td><td>f32</td><td>f32</td><td>f32</td><td>f32</td><td>f32</td><td>f32</td><td>f32</td><td>f32</td><td>f32</td><td>f32</td><td>f32</td><td>f32</td><td>f32</td><td>f32</td><td>f32</td><td>f32</td><td>f32</td><td>f32</td><td>f32</td><td>f32</td><td>f32</td><td>&hellip;</td><td>f32</td><td>f32</td><td>f32</td><td>f32</td><td>f32</td><td>f32</td><td>f32</td><td>f32</td><td>f32</td><td>f32</td><td>f32</td><td>f32</td><td>f32</td><td>f32</td><td>f32</td><td>f32</td><td>f32</td><td>f32</td><td>f32</td><td>f32</td><td>f32</td><td>f32</td><td>f32</td><td>f32</td><td>f32</td><td>f32</td><td>f32</td><td>f32</td><td>f32</td><td>f32</td><td>f32</td><td>f32</td><td>f32</td><td>f32</td><td>f32</td><td>f32</td><td>f32</td></tr></thead><tbody><tr><td>0</td><td>&quot;train&quot;</td><td>0</td><td>0.372342</td><td>1.500852</td><td>2.133451</td><td>-0.957384</td><td>-0.119022</td><td>0.12292</td><td>0.150993</td><td>0.506717</td><td>-0.839165</td><td>-0.199743</td><td>0.216119</td><td>1.348401</td><td>1.065637</td><td>-0.946945</td><td>0.499681</td><td>-0.264383</td><td>0.0</td><td>-1.33332</td><td>0.443795</td><td>0.098801</td><td>0.0</td><td>0.0</td><td>0.015876</td><td>-0.021957</td><td>0.792371</td><td>0.013245</td><td>0.0</td><td>1.017209</td><td>-0.448728</td><td>0.492206</td><td>0.0</td><td>-0.851639</td><td>0.936328</td><td>0.264994</td><td>&hellip;</td><td>-0.645828</td><td>0.434229</td><td>1.816138</td><td>-1.108658</td><td>0.826718</td><td>-1.196374</td><td>0.24742</td><td>0.160462</td><td>-0.039017</td><td>0.499748</td><td>0.159741</td><td>0.425718</td><td>1.162702</td><td>-0.632753</td><td>-0.517942</td><td>0.449427</td><td>0.077546</td><td>-1.703537</td><td>0.005984</td><td>-0.873771</td><td>-0.246468</td><td>1.4243</td><td>0.340689</td><td>-0.663166</td><td>0.517225</td><td>-0.286324</td><td>57.0</td><td>-1.254497</td><td>0.0</td><td>0.803635</td><td>-1.017931</td><td>-0.52113</td><td>0.647187</td><td>1.45386</td><td>-0.83348</td><td>0.184028</td><td>-0.438225</td></tr><tr><td>0</td><td>&quot;train&quot;</td><td>1</td><td>0.382215</td><td>0.962629</td><td>-0.192558</td><td>-1.019986</td><td>-1.330412</td><td>-0.100149</td><td>-1.131326</td><td>-1.173272</td><td>-1.790011</td><td>0.116708</td><td>0.788913</td><td>0.720656</td><td>-0.914471</td><td>-0.766861</td><td>1.551133</td><td>-0.198539</td><td>0.0</td><td>-0.71487</td><td>-0.869011</td><td>-0.743693</td><td>0.0</td><td>0.0</td><td>-0.767664</td><td>1.141277</td><td>-1.286912</td><td>-0.572806</td><td>0.0</td><td>-1.158312</td><td>-2.049119</td><td>-0.193137</td><td>0.0</td><td>-0.554452</td><td>0.632568</td><td>-1.332586</td><td>&hellip;</td><td>-0.126592</td><td>-0.614043</td><td>0.021234</td><td>-0.334816</td><td>-0.055649</td><td>1.201724</td><td>-0.281092</td><td>-1.279436</td><td>0.674947</td><td>-0.198981</td><td>-0.614454</td><td>-1.006725</td><td>-0.103481</td><td>0.778153</td><td>-1.090015</td><td>0.810727</td><td>1.101775</td><td>-0.761821</td><td>-0.112268</td><td>-0.491775</td><td>1.130508</td><td>-0.989669</td><td>1.19114</td><td>-0.803186</td><td>0.566153</td><td>1.284961</td><td>1.0</td><td>-0.884458</td><td>0.0</td><td>-1.643735</td><td>-1.264842</td><td>-1.523788</td><td>0.604948</td><td>0.491954</td><td>-0.003686</td><td>0.46972</td><td>-1.094604</td></tr><tr><td>0</td><td>&quot;train&quot;</td><td>2</td><td>0.472528</td><td>-0.695334</td><td>0.537968</td><td>-0.033</td><td>-0.36485</td><td>-0.441849</td><td>-0.035953</td><td>-0.921158</td><td>0.746746</td><td>0.477138</td><td>1.061066</td><td>2.348964</td><td>-0.740345</td><td>1.007488</td><td>0.990622</td><td>-1.122783</td><td>0.0</td><td>0.632436</td><td>-0.006833</td><td>-0.411626</td><td>0.0</td><td>0.0</td><td>-1.270903</td><td>-1.879841</td><td>0.62167</td><td>-0.688338</td><td>0.0</td><td>2.160033</td><td>-1.6759</td><td>-0.082673</td><td>0.0</td><td>-0.148567</td><td>-0.46428</td><td>-0.178598</td><td>&hellip;</td><td>0.869195</td><td>1.376578</td><td>0.750041</td><td>1.620765</td><td>-0.959123</td><td>-0.757372</td><td>-1.331277</td><td>-0.710401</td><td>-1.513987</td><td>0.720477</td><td>-1.287441</td><td>0.10716</td><td>1.086501</td><td>-0.458318</td><td>-0.072571</td><td>0.470386</td><td>1.170615</td><td>0.213452</td><td>1.806888</td><td>-2.085279</td><td>-1.035103</td><td>-0.173536</td><td>-0.470982</td><td>-0.134215</td><td>0.129898</td><td>-0.146585</td><td>2.0</td><td>-0.322682</td><td>0.0</td><td>-0.496765</td><td>-0.051931</td><td>0.743209</td><td>-1.395109</td><td>0.147941</td><td>-0.007553</td><td>-0.981296</td><td>0.27093</td></tr><tr><td>0</td><td>&quot;train&quot;</td><td>3</td><td>0.51226</td><td>-1.23196</td><td>0.555326</td><td>1.456647</td><td>1.435357</td><td>0.168613</td><td>-0.628737</td><td>0.249797</td><td>1.475977</td><td>-0.169269</td><td>0.51034</td><td>0.911377</td><td>-0.23678</td><td>-0.625305</td><td>2.107196</td><td>1.295551</td><td>0.0</td><td>0.649062</td><td>-0.117766</td><td>-1.508139</td><td>0.0</td><td>0.0</td><td>-0.387628</td><td>0.545191</td><td>0.14498</td><td>1.372529</td><td>0.0</td><td>0.05125</td><td>1.53818</td><td>0.840503</td><td>0.0</td><td>-0.385656</td><td>0.915411</td><td>-1.591858</td><td>&hellip;</td><td>1.28186</td><td>0.303849</td><td>0.803946</td><td>1.482661</td><td>-0.109579</td><td>1.002381</td><td>-0.432043</td><td>-0.381731</td><td>0.017506</td><td>-0.059549</td><td>-1.383963</td><td>0.008786</td><td>-1.59286</td><td>3.101853</td><td>0.318749</td><td>0.923378</td><td>-0.717617</td><td>0.383301</td><td>-1.171417</td><td>0.411504</td><td>1.426704</td><td>-0.174565</td><td>1.742944</td><td>0.697967</td><td>0.590742</td><td>-0.22384</td><td>3.0</td><td>0.976566</td><td>0.0</td><td>1.183049</td><td>-0.178662</td><td>1.468147</td><td>-0.791254</td><td>0.000645</td><td>0.674715</td><td>0.803094</td><td>1.037068</td></tr><tr><td>0</td><td>&quot;train&quot;</td><td>4</td><td>1.487986</td><td>-0.164392</td><td>-1.197163</td><td>1.549057</td><td>0.952673</td><td>1.144201</td><td>-0.964</td><td>0.0319</td><td>1.262253</td><td>-0.456219</td><td>-0.55885</td><td>0.035832</td><td>-1.898993</td><td>0.24009</td><td>0.788041</td><td>0.478828</td><td>1.0</td><td>0.30892</td><td>-0.966941</td><td>-0.525692</td><td>0.0</td><td>1.0</td><td>0.065214</td><td>-0.504748</td><td>0.022186</td><td>0.760587</td><td>0.0</td><td>2.040007</td><td>0.220125</td><td>1.336657</td><td>0.0</td><td>0.360773</td><td>0.636532</td><td>0.425884</td><td>&hellip;</td><td>-1.107146</td><td>-0.20163</td><td>-0.084249</td><td>0.321524</td><td>0.170648</td><td>-1.102571</td><td>-1.281386</td><td>0.066872</td><td>0.297046</td><td>-1.016946</td><td>0.109061</td><td>-0.03387</td><td>-0.053841</td><td>1.302263</td><td>-0.773607</td><td>-0.266053</td><td>0.577491</td><td>0.229705</td><td>0.77006</td><td>-0.297142</td><td>0.205571</td><td>-1.949414</td><td>-0.018187</td><td>-0.667887</td><td>-1.840382</td><td>-0.582842</td><td>4.0</td><td>-1.655236</td><td>0.0</td><td>1.076122</td><td>-0.555735</td><td>1.248728</td><td>-0.485943</td><td>0.458768</td><td>-0.444558</td><td>-0.33371</td><td>0.380206</td></tr></tbody></table></div>"
      ],
      "text/plain": [
       "shape: (5, 503)\n",
       "┌────────┬───────┬─────┬───────────┬───┬─────────────┬─────────────┬─────────────┬─────────────┐\n",
       "│ target ┆ smpl  ┆ id  ┆ feature_1 ┆ … ┆ feature_497 ┆ feature_498 ┆ feature_499 ┆ feature_500 │\n",
       "│ ---    ┆ ---   ┆ --- ┆ ---       ┆   ┆ ---         ┆ ---         ┆ ---         ┆ ---         │\n",
       "│ i64    ┆ str   ┆ i64 ┆ f32       ┆   ┆ f32         ┆ f32         ┆ f32         ┆ f32         │\n",
       "╞════════╪═══════╪═════╪═══════════╪═══╪═════════════╪═════════════╪═════════════╪═════════════╡\n",
       "│ 0      ┆ train ┆ 0   ┆ 0.372342  ┆ … ┆ 1.45386     ┆ -0.83348    ┆ 0.184028    ┆ -0.438225   │\n",
       "│ 0      ┆ train ┆ 1   ┆ 0.382215  ┆ … ┆ 0.491954    ┆ -0.003686   ┆ 0.46972     ┆ -1.094604   │\n",
       "│ 0      ┆ train ┆ 2   ┆ 0.472528  ┆ … ┆ 0.147941    ┆ -0.007553   ┆ -0.981296   ┆ 0.27093     │\n",
       "│ 0      ┆ train ┆ 3   ┆ 0.51226   ┆ … ┆ 0.000645    ┆ 0.674715    ┆ 0.803094    ┆ 1.037068    │\n",
       "│ 0      ┆ train ┆ 4   ┆ 1.487986  ┆ … ┆ 0.458768    ┆ -0.444558   ┆ -0.33371    ┆ 0.380206    │\n",
       "└────────┴───────┴─────┴───────────┴───┴─────────────┴─────────────┴─────────────┴─────────────┘"
      ]
     },
     "execution_count": 4,
     "metadata": {},
     "output_type": "execute_result"
    }
   ],
   "source": [
    "data = pl.read_parquet(\"../data/train_dataset.parquet\")\n",
    "data.head()"
   ]
  },
  {
   "cell_type": "code",
   "execution_count": 5,
   "metadata": {},
   "outputs": [
    {
     "data": {
      "text/html": [
       "<div><style>\n",
       ".dataframe > thead > tr,\n",
       ".dataframe > tbody > tr {\n",
       "  text-align: right;\n",
       "  white-space: pre-wrap;\n",
       "}\n",
       "</style>\n",
       "<small>shape: (2, 2)</small><table border=\"1\" class=\"dataframe\"><thead><tr><th>target</th><th>count</th></tr><tr><td>i64</td><td>u32</td></tr></thead><tbody><tr><td>1</td><td>154829</td></tr><tr><td>0</td><td>4335639</td></tr></tbody></table></div>"
      ],
      "text/plain": [
       "shape: (2, 2)\n",
       "┌────────┬─────────┐\n",
       "│ target ┆ count   │\n",
       "│ ---    ┆ ---     │\n",
       "│ i64    ┆ u32     │\n",
       "╞════════╪═════════╡\n",
       "│ 1      ┆ 154829  │\n",
       "│ 0      ┆ 4335639 │\n",
       "└────────┴─────────┘"
      ]
     },
     "execution_count": 5,
     "metadata": {},
     "output_type": "execute_result"
    }
   ],
   "source": [
    "data[\"target\"].value_counts()"
   ]
  },
  {
   "cell_type": "code",
   "execution_count": 8,
   "metadata": {},
   "outputs": [],
   "source": [
    "data_sub_train_positive = data.filter(pl.col(\"target\") == 1)\n",
    "data_sub_train_negative = data.filter(pl.col(\"target\") == 0).sample(154829)"
   ]
  },
  {
   "cell_type": "code",
   "execution_count": 10,
   "metadata": {},
   "outputs": [
    {
     "data": {
      "text/html": [
       "<div><style>\n",
       ".dataframe > thead > tr,\n",
       ".dataframe > tbody > tr {\n",
       "  text-align: right;\n",
       "  white-space: pre-wrap;\n",
       "}\n",
       "</style>\n",
       "<small>shape: (9, 504)</small><table border=\"1\" class=\"dataframe\"><thead><tr><th>statistic</th><th>target</th><th>smpl</th><th>id</th><th>feature_1</th><th>feature_2</th><th>feature_3</th><th>feature_4</th><th>feature_5</th><th>feature_6</th><th>feature_7</th><th>feature_8</th><th>feature_9</th><th>feature_10</th><th>feature_11</th><th>feature_12</th><th>feature_13</th><th>feature_14</th><th>feature_15</th><th>feature_16</th><th>feature_17</th><th>feature_18</th><th>feature_19</th><th>feature_20</th><th>feature_21</th><th>feature_22</th><th>feature_23</th><th>feature_24</th><th>feature_25</th><th>feature_26</th><th>feature_27</th><th>feature_28</th><th>feature_29</th><th>feature_30</th><th>feature_31</th><th>feature_32</th><th>feature_33</th><th>&hellip;</th><th>feature_464</th><th>feature_465</th><th>feature_466</th><th>feature_467</th><th>feature_468</th><th>feature_469</th><th>feature_470</th><th>feature_471</th><th>feature_472</th><th>feature_473</th><th>feature_474</th><th>feature_475</th><th>feature_476</th><th>feature_477</th><th>feature_478</th><th>feature_479</th><th>feature_480</th><th>feature_481</th><th>feature_482</th><th>feature_483</th><th>feature_484</th><th>feature_485</th><th>feature_486</th><th>feature_487</th><th>feature_488</th><th>feature_489</th><th>feature_490</th><th>feature_491</th><th>feature_492</th><th>feature_493</th><th>feature_494</th><th>feature_495</th><th>feature_496</th><th>feature_497</th><th>feature_498</th><th>feature_499</th><th>feature_500</th></tr><tr><td>str</td><td>f64</td><td>str</td><td>f64</td><td>f64</td><td>f64</td><td>f64</td><td>f64</td><td>f64</td><td>f64</td><td>f64</td><td>f64</td><td>f64</td><td>f64</td><td>f64</td><td>f64</td><td>f64</td><td>f64</td><td>f64</td><td>f64</td><td>f64</td><td>f64</td><td>f64</td><td>f64</td><td>f64</td><td>f64</td><td>f64</td><td>f64</td><td>f64</td><td>f64</td><td>f64</td><td>f64</td><td>f64</td><td>f64</td><td>f64</td><td>f64</td><td>f64</td><td>&hellip;</td><td>f64</td><td>f64</td><td>f64</td><td>f64</td><td>f64</td><td>f64</td><td>f64</td><td>f64</td><td>f64</td><td>f64</td><td>f64</td><td>f64</td><td>f64</td><td>f64</td><td>f64</td><td>f64</td><td>f64</td><td>f64</td><td>f64</td><td>f64</td><td>f64</td><td>f64</td><td>f64</td><td>f64</td><td>f64</td><td>f64</td><td>f64</td><td>f64</td><td>f64</td><td>f64</td><td>f64</td><td>f64</td><td>f64</td><td>f64</td><td>f64</td><td>f64</td><td>f64</td></tr></thead><tbody><tr><td>&quot;count&quot;</td><td>154829.0</td><td>&quot;154829&quot;</td><td>154829.0</td><td>154829.0</td><td>154829.0</td><td>154829.0</td><td>154829.0</td><td>154829.0</td><td>154829.0</td><td>154829.0</td><td>154829.0</td><td>154829.0</td><td>154829.0</td><td>154829.0</td><td>154829.0</td><td>154829.0</td><td>154829.0</td><td>154829.0</td><td>154829.0</td><td>154829.0</td><td>154829.0</td><td>154829.0</td><td>154829.0</td><td>154829.0</td><td>154829.0</td><td>154829.0</td><td>154829.0</td><td>154829.0</td><td>154829.0</td><td>154829.0</td><td>154829.0</td><td>154829.0</td><td>154829.0</td><td>154829.0</td><td>154829.0</td><td>154829.0</td><td>&hellip;</td><td>154829.0</td><td>154829.0</td><td>154829.0</td><td>154829.0</td><td>154829.0</td><td>154829.0</td><td>154829.0</td><td>154829.0</td><td>154829.0</td><td>154829.0</td><td>154829.0</td><td>154829.0</td><td>154829.0</td><td>154829.0</td><td>154829.0</td><td>154829.0</td><td>154829.0</td><td>154829.0</td><td>154829.0</td><td>154829.0</td><td>154829.0</td><td>154829.0</td><td>154829.0</td><td>154829.0</td><td>154829.0</td><td>154829.0</td><td>154829.0</td><td>154829.0</td><td>154829.0</td><td>154829.0</td><td>154829.0</td><td>154829.0</td><td>154829.0</td><td>154829.0</td><td>154829.0</td><td>154829.0</td><td>154829.0</td></tr><tr><td>&quot;null_count&quot;</td><td>0.0</td><td>&quot;0&quot;</td><td>0.0</td><td>0.0</td><td>0.0</td><td>0.0</td><td>0.0</td><td>0.0</td><td>0.0</td><td>0.0</td><td>0.0</td><td>0.0</td><td>0.0</td><td>0.0</td><td>0.0</td><td>0.0</td><td>0.0</td><td>0.0</td><td>0.0</td><td>0.0</td><td>0.0</td><td>0.0</td><td>0.0</td><td>0.0</td><td>0.0</td><td>0.0</td><td>0.0</td><td>0.0</td><td>0.0</td><td>0.0</td><td>0.0</td><td>0.0</td><td>0.0</td><td>0.0</td><td>0.0</td><td>0.0</td><td>&hellip;</td><td>0.0</td><td>0.0</td><td>0.0</td><td>0.0</td><td>0.0</td><td>0.0</td><td>0.0</td><td>0.0</td><td>0.0</td><td>0.0</td><td>0.0</td><td>0.0</td><td>0.0</td><td>0.0</td><td>0.0</td><td>0.0</td><td>0.0</td><td>0.0</td><td>0.0</td><td>0.0</td><td>0.0</td><td>0.0</td><td>0.0</td><td>0.0</td><td>0.0</td><td>0.0</td><td>0.0</td><td>0.0</td><td>0.0</td><td>0.0</td><td>0.0</td><td>0.0</td><td>0.0</td><td>0.0</td><td>0.0</td><td>0.0</td><td>0.0</td></tr><tr><td>&quot;mean&quot;</td><td>1.0</td><td>null</td><td>2.7981e6</td><td>-0.085348</td><td>0.02833</td><td>0.015477</td><td>0.057464</td><td>-0.157848</td><td>0.029907</td><td>-0.018652</td><td>0.11471</td><td>0.131189</td><td>-0.061209</td><td>0.357067</td><td>-0.201081</td><td>-0.018367</td><td>0.329145</td><td>0.011514</td><td>0.060904</td><td>0.220443</td><td>0.121298</td><td>0.017236</td><td>0.027187</td><td>0.155249</td><td>0.220443</td><td>-0.014656</td><td>-0.017726</td><td>0.02953</td><td>-0.004032</td><td>0.038184</td><td>-0.035398</td><td>0.144466</td><td>0.008666</td><td>0.277461</td><td>-0.011399</td><td>-0.035906</td><td>&hellip;</td><td>0.048988</td><td>-0.036033</td><td>0.020874</td><td>-0.191226</td><td>-0.046261</td><td>-0.001042</td><td>0.094587</td><td>0.02405</td><td>-0.045726</td><td>0.114017</td><td>0.031642</td><td>0.078231</td><td>-0.037643</td><td>-0.072028</td><td>-0.031056</td><td>0.082907</td><td>0.264041</td><td>0.230724</td><td>-0.16475</td><td>0.064982</td><td>0.009219</td><td>0.001994</td><td>0.01828</td><td>-0.03394</td><td>0.037095</td><td>-0.047141</td><td>11.893127</td><td>0.088191</td><td>0.155249</td><td>0.171866</td><td>0.188566</td><td>0.133965</td><td>0.061092</td><td>-0.048235</td><td>0.083945</td><td>0.006585</td><td>-0.026502</td></tr><tr><td>&quot;std&quot;</td><td>0.0</td><td>null</td><td>1.1141e6</td><td>0.975929</td><td>1.001748</td><td>1.007901</td><td>1.051907</td><td>0.97357</td><td>1.01876</td><td>0.992187</td><td>1.078181</td><td>1.228753</td><td>0.993361</td><td>1.177625</td><td>1.201487</td><td>1.012002</td><td>1.161526</td><td>1.000318</td><td>1.075107</td><td>0.414547</td><td>1.153959</td><td>0.956117</td><td>1.033101</td><td>0.362143</td><td>0.414547</td><td>0.989158</td><td>1.000375</td><td>1.023444</td><td>1.008629</td><td>0.191641</td><td>0.985605</td><td>1.112559</td><td>1.015532</td><td>0.448943</td><td>0.983202</td><td>1.004809</td><td>&hellip;</td><td>1.000676</td><td>0.991174</td><td>1.006096</td><td>1.118526</td><td>1.018771</td><td>0.998958</td><td>1.104339</td><td>1.037797</td><td>1.016662</td><td>1.032462</td><td>1.015591</td><td>1.064776</td><td>0.986061</td><td>0.967624</td><td>0.997291</td><td>1.065721</td><td>1.151336</td><td>1.100578</td><td>0.89172</td><td>1.043843</td><td>1.016068</td><td>0.999734</td><td>1.010059</td><td>0.983149</td><td>0.995439</td><td>1.020111</td><td>14.661582</td><td>1.068987</td><td>0.362143</td><td>1.062166</td><td>1.021655</td><td>1.246148</td><td>1.046327</td><td>1.028496</td><td>1.058286</td><td>1.002293</td><td>0.994481</td></tr><tr><td>&quot;min&quot;</td><td>1.0</td><td>&quot;train&quot;</td><td>51.0</td><td>-5.199337</td><td>-5.199337</td><td>-5.199337</td><td>-5.199337</td><td>-5.199337</td><td>-5.199337</td><td>-3.361247</td><td>-5.199337</td><td>-5.199337</td><td>-5.199337</td><td>-5.199337</td><td>-5.199337</td><td>-5.199337</td><td>-5.199337</td><td>-5.199337</td><td>-5.199337</td><td>0.0</td><td>-5.199337</td><td>-5.199337</td><td>-5.199337</td><td>0.0</td><td>0.0</td><td>-5.199337</td><td>-5.199337</td><td>-5.199337</td><td>-5.199337</td><td>0.0</td><td>-5.199337</td><td>-5.199337</td><td>-5.199337</td><td>0.0</td><td>-5.199337</td><td>-5.199337</td><td>&hellip;</td><td>-5.199337</td><td>-5.199337</td><td>-5.199337</td><td>-5.199337</td><td>-5.199337</td><td>-3.485265</td><td>-5.199337</td><td>-5.199337</td><td>-5.199337</td><td>-5.199337</td><td>-5.199337</td><td>-5.199337</td><td>-5.199337</td><td>-5.199337</td><td>-5.199337</td><td>-5.199337</td><td>-5.199337</td><td>-3.655451</td><td>-5.199337</td><td>-4.078226</td><td>-5.199337</td><td>-5.199337</td><td>-5.199337</td><td>-5.199337</td><td>-5.199337</td><td>-5.199337</td><td>1.0</td><td>-5.199337</td><td>0.0</td><td>-5.199337</td><td>-5.199337</td><td>-5.199337</td><td>-5.199337</td><td>-5.199337</td><td>-5.199337</td><td>-5.199337</td><td>-5.199337</td></tr><tr><td>&quot;25%&quot;</td><td>1.0</td><td>null</td><td>2.125417e6</td><td>-0.743716</td><td>-0.654333</td><td>-0.661166</td><td>-0.665012</td><td>-0.794396</td><td>-0.65009</td><td>-0.682127</td><td>-0.63055</td><td>-0.685213</td><td>-0.724513</td><td>-0.472809</td><td>-1.051927</td><td>-0.695326</td><td>-0.49112</td><td>-0.665152</td><td>-0.669306</td><td>0.0</td><td>-0.672309</td><td>-0.602825</td><td>-0.673563</td><td>0.0</td><td>0.0</td><td>-0.678357</td><td>-0.691425</td><td>-0.662266</td><td>-0.676055</td><td>0.0</td><td>-0.708356</td><td>-0.605499</td><td>-0.686604</td><td>0.0</td><td>-0.682863</td><td>-0.703042</td><td>&hellip;</td><td>-0.620299</td><td>-0.698289</td><td>-0.66273</td><td>-0.813795</td><td>-0.722105</td><td>-0.677857</td><td>-0.669058</td><td>-0.662981</td><td>-0.727744</td><td>-0.607655</td><td>-0.663904</td><td>-0.646406</td><td>-0.718698</td><td>-0.711976</td><td>-0.708457</td><td>-0.641745</td><td>-0.542646</td><td>-0.556621</td><td>-0.712977</td><td>-0.646615</td><td>-0.682753</td><td>-0.674903</td><td>-0.657092</td><td>-0.685553</td><td>-0.633278</td><td>-0.733993</td><td>2.0</td><td>-0.633822</td><td>0.0</td><td>-0.566542</td><td>-0.510762</td><td>-0.696938</td><td>-0.651159</td><td>-0.725558</td><td>-0.630813</td><td>-0.66686</td><td>-0.692681</td></tr><tr><td>&quot;50%&quot;</td><td>1.0</td><td>null</td><td>2.947761e6</td><td>-0.085127</td><td>0.023254</td><td>0.01632</td><td>0.030976</td><td>-0.183851</td><td>0.023223</td><td>-0.024476</td><td>0.079833</td><td>-0.075287</td><td>-0.054042</td><td>0.319189</td><td>-0.200558</td><td>-0.023071</td><td>0.298191</td><td>0.003318</td><td>0.000937</td><td>0.0</td><td>-0.001984</td><td>0.003403</td><td>0.015032</td><td>0.0</td><td>0.0</td><td>-0.010857</td><td>-0.010034</td><td>0.029654</td><td>-0.017892</td><td>0.0</td><td>-0.028696</td><td>0.083997</td><td>-0.015227</td><td>0.0</td><td>0.001693</td><td>-0.049319</td><td>&hellip;</td><td>0.049392</td><td>-0.035455</td><td>0.021948</td><td>-0.414565</td><td>-0.053904</td><td>0.00445</td><td>0.07043</td><td>-0.002807</td><td>-0.037138</td><td>0.110398</td><td>0.01909</td><td>0.052839</td><td>-0.049977</td><td>-0.064888</td><td>-0.03571</td><td>0.060685</td><td>0.208421</td><td>0.226436</td><td>-0.153444</td><td>0.031499</td><td>0.002998</td><td>0.006738</td><td>0.015649</td><td>-0.038582</td><td>0.036771</td><td>-0.040693</td><td>5.0</td><td>0.043465</td><td>0.0</td><td>0.169629</td><td>0.202778</td><td>-0.083991</td><td>0.040363</td><td>-0.04345</td><td>0.065203</td><td>0.002138</td><td>-0.025649</td></tr><tr><td>&quot;75%&quot;</td><td>1.0</td><td>null</td><td>3.71136e6</td><td>0.521122</td><td>0.717228</td><td>0.679579</td><td>0.745071</td><td>0.360217</td><td>0.655344</td><td>0.656988</td><td>0.835018</td><td>0.830555</td><td>0.590506</td><td>1.216212</td><td>0.682943</td><td>0.642431</td><td>1.189627</td><td>0.681863</td><td>0.777342</td><td>0.0</td><td>0.906615</td><td>0.630223</td><td>0.705461</td><td>0.0</td><td>0.0</td><td>0.659965</td><td>0.642474</td><td>0.726111</td><td>0.679919</td><td>0.0</td><td>0.623272</td><td>0.837873</td><td>0.671655</td><td>1.0</td><td>0.667207</td><td>0.642443</td><td>&hellip;</td><td>0.73665</td><td>0.625534</td><td>0.713522</td><td>0.541132</td><td>0.636452</td><td>0.680243</td><td>0.815713</td><td>0.673334</td><td>0.63871</td><td>0.846628</td><td>0.706778</td><td>0.807765</td><td>0.63477</td><td>0.571037</td><td>0.632419</td><td>0.761805</td><td>1.15519</td><td>1.033708</td><td>0.369051</td><td>0.748633</td><td>0.693445</td><td>0.658238</td><td>0.697275</td><td>0.63103</td><td>0.706261</td><td>0.651501</td><td>15.0</td><td>0.796676</td><td>0.0</td><td>0.901997</td><td>0.876915</td><td>0.840188</td><td>0.778863</td><td>0.647833</td><td>0.782561</td><td>0.676394</td><td>0.641927</td></tr><tr><td>&quot;max&quot;</td><td>1.0</td><td>&quot;train&quot;</td><td>4.490463e6</td><td>5.199337</td><td>5.199337</td><td>5.199337</td><td>5.199337</td><td>5.199337</td><td>5.199337</td><td>5.199337</td><td>5.199337</td><td>5.199337</td><td>5.199337</td><td>5.199337</td><td>5.199337</td><td>5.199337</td><td>5.199337</td><td>5.199337</td><td>5.199337</td><td>1.0</td><td>5.199337</td><td>5.199337</td><td>5.199337</td><td>1.0</td><td>1.0</td><td>5.199337</td><td>5.199337</td><td>5.199337</td><td>5.199337</td><td>1.0</td><td>5.199337</td><td>5.199337</td><td>5.199337</td><td>2.0</td><td>5.199337</td><td>5.199337</td><td>&hellip;</td><td>5.199337</td><td>5.199337</td><td>5.199337</td><td>5.199337</td><td>5.199337</td><td>5.199337</td><td>5.199337</td><td>5.199337</td><td>5.199337</td><td>5.199337</td><td>5.199337</td><td>5.199337</td><td>5.199337</td><td>5.199337</td><td>3.810896</td><td>5.199337</td><td>5.199337</td><td>5.199337</td><td>5.199337</td><td>5.199337</td><td>5.199337</td><td>5.199337</td><td>5.199337</td><td>5.199337</td><td>5.199337</td><td>5.199337</td><td>57.0</td><td>5.199337</td><td>1.0</td><td>5.199337</td><td>5.199337</td><td>5.199337</td><td>5.199337</td><td>5.199337</td><td>5.199337</td><td>5.199337</td><td>5.199337</td></tr></tbody></table></div>"
      ],
      "text/plain": [
       "shape: (9, 504)\n",
       "┌────────────┬──────────┬────────┬────────────┬───┬────────────┬───────────┬───────────┬───────────┐\n",
       "│ statistic  ┆ target   ┆ smpl   ┆ id         ┆ … ┆ feature_49 ┆ feature_4 ┆ feature_4 ┆ feature_5 │\n",
       "│ ---        ┆ ---      ┆ ---    ┆ ---        ┆   ┆ 7          ┆ 98        ┆ 99        ┆ 00        │\n",
       "│ str        ┆ f64      ┆ str    ┆ f64        ┆   ┆ ---        ┆ ---       ┆ ---       ┆ ---       │\n",
       "│            ┆          ┆        ┆            ┆   ┆ f64        ┆ f64       ┆ f64       ┆ f64       │\n",
       "╞════════════╪══════════╪════════╪════════════╪═══╪════════════╪═══════════╪═══════════╪═══════════╡\n",
       "│ count      ┆ 154829.0 ┆ 154829 ┆ 154829.0   ┆ … ┆ 154829.0   ┆ 154829.0  ┆ 154829.0  ┆ 154829.0  │\n",
       "│ null_count ┆ 0.0      ┆ 0      ┆ 0.0        ┆ … ┆ 0.0        ┆ 0.0       ┆ 0.0       ┆ 0.0       │\n",
       "│ mean       ┆ 1.0      ┆ null   ┆ 2.7981e6   ┆ … ┆ -0.048235  ┆ 0.083945  ┆ 0.006585  ┆ -0.026502 │\n",
       "│ std        ┆ 0.0      ┆ null   ┆ 1.1141e6   ┆ … ┆ 1.028496   ┆ 1.058286  ┆ 1.002293  ┆ 0.994481  │\n",
       "│ min        ┆ 1.0      ┆ train  ┆ 51.0       ┆ … ┆ -5.199337  ┆ -5.199337 ┆ -5.199337 ┆ -5.199337 │\n",
       "│ 25%        ┆ 1.0      ┆ null   ┆ 2.125417e6 ┆ … ┆ -0.725558  ┆ -0.630813 ┆ -0.66686  ┆ -0.692681 │\n",
       "│ 50%        ┆ 1.0      ┆ null   ┆ 2.947761e6 ┆ … ┆ -0.04345   ┆ 0.065203  ┆ 0.002138  ┆ -0.025649 │\n",
       "│ 75%        ┆ 1.0      ┆ null   ┆ 3.71136e6  ┆ … ┆ 0.647833   ┆ 0.782561  ┆ 0.676394  ┆ 0.641927  │\n",
       "│ max        ┆ 1.0      ┆ train  ┆ 4.490463e6 ┆ … ┆ 5.199337   ┆ 5.199337  ┆ 5.199337  ┆ 5.199337  │\n",
       "└────────────┴──────────┴────────┴────────────┴───┴────────────┴───────────┴───────────┴───────────┘"
      ]
     },
     "execution_count": 10,
     "metadata": {},
     "output_type": "execute_result"
    }
   ],
   "source": [
    "data_sub_train_positive.describe()"
   ]
  },
  {
   "cell_type": "code",
   "execution_count": 12,
   "metadata": {},
   "outputs": [],
   "source": [
    "data_sub_train = pl.concat([data_sub_train_positive, data_sub_train_negative])\n",
    "data_sub_train.write_parquet(\"../data/sub_train_dataset.parquet\")"
   ]
  },
  {
   "cell_type": "code",
   "execution_count": 2,
   "metadata": {},
   "outputs": [
    {
     "data": {
      "text/html": [
       "<div><style>\n",
       ".dataframe > thead > tr,\n",
       ".dataframe > tbody > tr {\n",
       "  text-align: right;\n",
       "  white-space: pre-wrap;\n",
       "}\n",
       "</style>\n",
       "<small>shape: (5, 503)</small><table border=\"1\" class=\"dataframe\"><thead><tr><th>target</th><th>smpl</th><th>id</th><th>feature_1</th><th>feature_2</th><th>feature_3</th><th>feature_4</th><th>feature_5</th><th>feature_6</th><th>feature_7</th><th>feature_8</th><th>feature_9</th><th>feature_10</th><th>feature_11</th><th>feature_12</th><th>feature_13</th><th>feature_14</th><th>feature_15</th><th>feature_16</th><th>feature_17</th><th>feature_18</th><th>feature_19</th><th>feature_20</th><th>feature_21</th><th>feature_22</th><th>feature_23</th><th>feature_24</th><th>feature_25</th><th>feature_26</th><th>feature_27</th><th>feature_28</th><th>feature_29</th><th>feature_30</th><th>feature_31</th><th>feature_32</th><th>feature_33</th><th>feature_34</th><th>&hellip;</th><th>feature_464</th><th>feature_465</th><th>feature_466</th><th>feature_467</th><th>feature_468</th><th>feature_469</th><th>feature_470</th><th>feature_471</th><th>feature_472</th><th>feature_473</th><th>feature_474</th><th>feature_475</th><th>feature_476</th><th>feature_477</th><th>feature_478</th><th>feature_479</th><th>feature_480</th><th>feature_481</th><th>feature_482</th><th>feature_483</th><th>feature_484</th><th>feature_485</th><th>feature_486</th><th>feature_487</th><th>feature_488</th><th>feature_489</th><th>feature_490</th><th>feature_491</th><th>feature_492</th><th>feature_493</th><th>feature_494</th><th>feature_495</th><th>feature_496</th><th>feature_497</th><th>feature_498</th><th>feature_499</th><th>feature_500</th></tr><tr><td>i64</td><td>str</td><td>i64</td><td>f32</td><td>f32</td><td>f32</td><td>f32</td><td>f32</td><td>f32</td><td>f32</td><td>f32</td><td>f32</td><td>f32</td><td>f32</td><td>f32</td><td>f32</td><td>f32</td><td>f32</td><td>f32</td><td>f32</td><td>f32</td><td>f32</td><td>f32</td><td>f32</td><td>f32</td><td>f32</td><td>f32</td><td>f32</td><td>f32</td><td>f32</td><td>f32</td><td>f32</td><td>f32</td><td>f32</td><td>f32</td><td>f32</td><td>f32</td><td>&hellip;</td><td>f32</td><td>f32</td><td>f32</td><td>f32</td><td>f32</td><td>f32</td><td>f32</td><td>f32</td><td>f32</td><td>f32</td><td>f32</td><td>f32</td><td>f32</td><td>f32</td><td>f32</td><td>f32</td><td>f32</td><td>f32</td><td>f32</td><td>f32</td><td>f32</td><td>f32</td><td>f32</td><td>f32</td><td>f32</td><td>f32</td><td>f32</td><td>f32</td><td>f32</td><td>f32</td><td>f32</td><td>f32</td><td>f32</td><td>f32</td><td>f32</td><td>f32</td><td>f32</td></tr></thead><tbody><tr><td>1</td><td>&quot;train&quot;</td><td>51</td><td>0.575924</td><td>0.22133</td><td>1.684064</td><td>0.108184</td><td>0.086583</td><td>0.873604</td><td>-0.981125</td><td>-1.304021</td><td>-0.666024</td><td>-0.337244</td><td>1.180272</td><td>0.029739</td><td>-1.263854</td><td>1.103023</td><td>-0.075711</td><td>-0.399112</td><td>0.0</td><td>-0.954556</td><td>-0.422704</td><td>-0.20565</td><td>0.0</td><td>0.0</td><td>1.995724</td><td>1.263619</td><td>-0.153048</td><td>1.62713</td><td>0.0</td><td>-0.917502</td><td>-1.384319</td><td>-0.564511</td><td>0.0</td><td>-0.17391</td><td>0.479087</td><td>-0.634089</td><td>&hellip;</td><td>0.046279</td><td>-0.013041</td><td>0.408524</td><td>-1.466392</td><td>1.135502</td><td>-0.130431</td><td>0.846442</td><td>0.474579</td><td>-0.503552</td><td>0.714296</td><td>-0.230602</td><td>0.313121</td><td>1.372373</td><td>2.015766</td><td>0.743366</td><td>0.520015</td><td>-0.453539</td><td>0.740631</td><td>0.028593</td><td>-0.574654</td><td>-1.433721</td><td>-0.804884</td><td>0.025428</td><td>0.093243</td><td>0.347581</td><td>-0.030351</td><td>1.0</td><td>1.325476</td><td>0.0</td><td>-0.321562</td><td>-0.683197</td><td>-1.618111</td><td>0.509566</td><td>-0.890903</td><td>0.684632</td><td>0.10125</td><td>1.468575</td></tr><tr><td>1</td><td>&quot;train&quot;</td><td>116</td><td>0.535891</td><td>0.073505</td><td>-1.285314</td><td>-0.486952</td><td>-0.132037</td><td>-0.532459</td><td>1.687938</td><td>-0.875687</td><td>-0.172725</td><td>-0.965682</td><td>0.387123</td><td>1.11267</td><td>-1.140538</td><td>-1.310603</td><td>0.421993</td><td>-0.417016</td><td>0.0</td><td>0.221355</td><td>0.438114</td><td>1.281644</td><td>0.0</td><td>0.0</td><td>0.944637</td><td>-0.241344</td><td>0.289947</td><td>0.793668</td><td>0.0</td><td>-1.493517</td><td>-0.300085</td><td>-0.606894</td><td>1.0</td><td>0.76456</td><td>1.395799</td><td>0.349063</td><td>&hellip;</td><td>0.716419</td><td>0.644251</td><td>1.069474</td><td>-0.46224</td><td>1.294645</td><td>0.420474</td><td>-0.190662</td><td>-0.799477</td><td>-0.580747</td><td>-0.979771</td><td>0.648963</td><td>0.488698</td><td>-1.702593</td><td>1.28907</td><td>0.754406</td><td>1.444602</td><td>0.894355</td><td>0.064694</td><td>-0.343533</td><td>-0.846417</td><td>0.694101</td><td>1.61691</td><td>0.342168</td><td>0.267461</td><td>0.260128</td><td>-0.065663</td><td>2.0</td><td>-2.057568</td><td>0.0</td><td>1.48217</td><td>1.710262</td><td>-0.172929</td><td>0.447836</td><td>-0.400597</td><td>1.372346</td><td>-0.339095</td><td>-1.206653</td></tr><tr><td>1</td><td>&quot;train&quot;</td><td>129</td><td>0.907321</td><td>-0.670663</td><td>-0.181707</td><td>0.160142</td><td>1.15332</td><td>0.675533</td><td>-0.601514</td><td>-1.03188</td><td>0.447099</td><td>0.933306</td><td>1.049696</td><td>-0.143409</td><td>0.289074</td><td>1.063375</td><td>0.604891</td><td>0.077759</td><td>0.0</td><td>0.238669</td><td>1.543897</td><td>-0.088067</td><td>0.0</td><td>0.0</td><td>0.216293</td><td>-1.576575</td><td>0.553923</td><td>0.13333</td><td>0.0</td><td>-1.575375</td><td>-0.084472</td><td>-0.122795</td><td>0.0</td><td>1.363174</td><td>-0.499273</td><td>0.416601</td><td>&hellip;</td><td>-0.19352</td><td>0.045254</td><td>1.221884</td><td>-0.287202</td><td>0.454189</td><td>1.599415</td><td>-0.26421</td><td>1.300249</td><td>-0.385706</td><td>2.186214</td><td>0.409925</td><td>-1.327251</td><td>-0.837308</td><td>0.906037</td><td>-0.472586</td><td>0.060089</td><td>1.164486</td><td>1.20469</td><td>0.169166</td><td>-0.126535</td><td>1.888815</td><td>-0.910683</td><td>-0.041059</td><td>-0.372387</td><td>0.771838</td><td>-0.035046</td><td>15.0</td><td>0.414452</td><td>0.0</td><td>0.840254</td><td>1.885963</td><td>0.440201</td><td>0.595312</td><td>0.081776</td><td>-0.911395</td><td>0.250122</td><td>-0.02454</td></tr><tr><td>1</td><td>&quot;train&quot;</td><td>391</td><td>1.595058</td><td>-0.678757</td><td>0.135097</td><td>-0.531307</td><td>0.167596</td><td>-0.666086</td><td>-0.018718</td><td>-1.951071</td><td>-0.225989</td><td>-0.490973</td><td>0.380046</td><td>1.489469</td><td>0.780963</td><td>0.583641</td><td>-1.01475</td><td>-0.38029</td><td>0.0</td><td>-0.102469</td><td>0.169021</td><td>0.458915</td><td>0.0</td><td>0.0</td><td>-0.892611</td><td>-1.143362</td><td>-0.093893</td><td>-2.69318</td><td>0.0</td><td>0.229763</td><td>-1.485948</td><td>-1.20618</td><td>0.0</td><td>0.440022</td><td>1.3</td><td>0.92657</td><td>&hellip;</td><td>-1.187309</td><td>-0.219683</td><td>0.526998</td><td>-0.456207</td><td>-1.948905</td><td>-2.877563</td><td>-1.360259</td><td>0.094024</td><td>1.522478</td><td>0.756947</td><td>0.321435</td><td>0.790942</td><td>1.420553</td><td>1.131217</td><td>0.750021</td><td>-0.831505</td><td>0.409404</td><td>-0.164877</td><td>0.479127</td><td>-0.142328</td><td>-0.129153</td><td>-2.353522</td><td>0.899784</td><td>1.054675</td><td>-0.423816</td><td>0.593567</td><td>2.0</td><td>-0.818523</td><td>0.0</td><td>-0.392109</td><td>-0.234374</td><td>-0.232281</td><td>-0.158962</td><td>0.223449</td><td>0.989992</td><td>0.579262</td><td>-1.272855</td></tr><tr><td>1</td><td>&quot;train&quot;</td><td>417</td><td>-0.633544</td><td>-0.810396</td><td>0.430721</td><td>-0.298063</td><td>2.619097</td><td>2.096483</td><td>-0.01499</td><td>0.592974</td><td>-1.098315</td><td>-2.06642</td><td>0.305547</td><td>0.536667</td><td>1.02318</td><td>0.158979</td><td>1.04366</td><td>0.134349</td><td>0.0</td><td>-0.878825</td><td>0.181724</td><td>1.541455</td><td>0.0</td><td>0.0</td><td>1.689923</td><td>-1.739879</td><td>-1.05516</td><td>1.458465</td><td>0.0</td><td>-0.96353</td><td>-0.274656</td><td>-0.146203</td><td>1.0</td><td>0.561834</td><td>-0.293778</td><td>0.775582</td><td>&hellip;</td><td>1.553534</td><td>2.508949</td><td>-1.043853</td><td>-0.841256</td><td>-0.416662</td><td>-1.466668</td><td>0.153301</td><td>0.078719</td><td>1.36361</td><td>0.572639</td><td>-0.69381</td><td>-1.141616</td><td>-0.544009</td><td>1.053136</td><td>0.437316</td><td>-1.828404</td><td>0.864916</td><td>-2.086519</td><td>-0.276042</td><td>-0.002167</td><td>0.122965</td><td>0.312188</td><td>-0.413563</td><td>-1.594506</td><td>0.097207</td><td>0.092639</td><td>4.0</td><td>-0.261561</td><td>0.0</td><td>-0.826684</td><td>-2.335803</td><td>-0.569552</td><td>0.414016</td><td>0.303864</td><td>0.241606</td><td>-1.015104</td><td>-0.975828</td></tr></tbody></table></div>"
      ],
      "text/plain": [
       "shape: (5, 503)\n",
       "┌────────┬───────┬─────┬───────────┬───┬─────────────┬─────────────┬─────────────┬─────────────┐\n",
       "│ target ┆ smpl  ┆ id  ┆ feature_1 ┆ … ┆ feature_497 ┆ feature_498 ┆ feature_499 ┆ feature_500 │\n",
       "│ ---    ┆ ---   ┆ --- ┆ ---       ┆   ┆ ---         ┆ ---         ┆ ---         ┆ ---         │\n",
       "│ i64    ┆ str   ┆ i64 ┆ f32       ┆   ┆ f32         ┆ f32         ┆ f32         ┆ f32         │\n",
       "╞════════╪═══════╪═════╪═══════════╪═══╪═════════════╪═════════════╪═════════════╪═════════════╡\n",
       "│ 1      ┆ train ┆ 51  ┆ 0.575924  ┆ … ┆ -0.890903   ┆ 0.684632    ┆ 0.10125     ┆ 1.468575    │\n",
       "│ 1      ┆ train ┆ 116 ┆ 0.535891  ┆ … ┆ -0.400597   ┆ 1.372346    ┆ -0.339095   ┆ -1.206653   │\n",
       "│ 1      ┆ train ┆ 129 ┆ 0.907321  ┆ … ┆ 0.081776    ┆ -0.911395   ┆ 0.250122    ┆ -0.02454    │\n",
       "│ 1      ┆ train ┆ 391 ┆ 1.595058  ┆ … ┆ 0.223449    ┆ 0.989992    ┆ 0.579262    ┆ -1.272855   │\n",
       "│ 1      ┆ train ┆ 417 ┆ -0.633544 ┆ … ┆ 0.303864    ┆ 0.241606    ┆ -1.015104   ┆ -0.975828   │\n",
       "└────────┴───────┴─────┴───────────┴───┴─────────────┴─────────────┴─────────────┴─────────────┘"
      ]
     },
     "execution_count": 2,
     "metadata": {},
     "output_type": "execute_result"
    }
   ],
   "source": [
    "sub_data = pl.read_parquet(\"../data/sub_train_dataset.parquet\")\n",
    "sub_data.head()"
   ]
  },
  {
   "cell_type": "code",
   "execution_count": 3,
   "metadata": {},
   "outputs": [
    {
     "data": {
      "text/html": [
       "<div><style>\n",
       ".dataframe > thead > tr,\n",
       ".dataframe > tbody > tr {\n",
       "  text-align: right;\n",
       "  white-space: pre-wrap;\n",
       "}\n",
       "</style>\n",
       "<small>shape: (2, 2)</small><table border=\"1\" class=\"dataframe\"><thead><tr><th>target</th><th>count</th></tr><tr><td>i64</td><td>u32</td></tr></thead><tbody><tr><td>0</td><td>154829</td></tr><tr><td>1</td><td>154829</td></tr></tbody></table></div>"
      ],
      "text/plain": [
       "shape: (2, 2)\n",
       "┌────────┬────────┐\n",
       "│ target ┆ count  │\n",
       "│ ---    ┆ ---    │\n",
       "│ i64    ┆ u32    │\n",
       "╞════════╪════════╡\n",
       "│ 0      ┆ 154829 │\n",
       "│ 1      ┆ 154829 │\n",
       "└────────┴────────┘"
      ]
     },
     "execution_count": 3,
     "metadata": {},
     "output_type": "execute_result"
    }
   ],
   "source": [
    "sub_data[\"target\"].value_counts()"
   ]
  }
 ],
 "metadata": {
  "kernelspec": {
   "display_name": "venv",
   "language": "python",
   "name": "python3"
  },
  "language_info": {
   "codemirror_mode": {
    "name": "ipython",
    "version": 3
   },
   "file_extension": ".py",
   "mimetype": "text/x-python",
   "name": "python",
   "nbconvert_exporter": "python",
   "pygments_lexer": "ipython3",
   "version": "3.12.7"
  }
 },
 "nbformat": 4,
 "nbformat_minor": 2
}
